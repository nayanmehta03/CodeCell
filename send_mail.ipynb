{
  "nbformat": 4,
  "nbformat_minor": 0,
  "metadata": {
    "colab": {
      "name": "send_mail.ipynb",
      "provenance": [],
      "include_colab_link": true
    },
    "kernelspec": {
      "name": "python3",
      "display_name": "Python 3"
    }
  },
  "cells": [
    {
      "cell_type": "markdown",
      "metadata": {
        "id": "view-in-github",
        "colab_type": "text"
      },
      "source": [
        "<a href=\"https://colab.research.google.com/github/nayanmehta03/CodeCell/blob/master/send_mail.ipynb\" target=\"_parent\"><img src=\"https://colab.research.google.com/assets/colab-badge.svg\" alt=\"Open In Colab\"/></a>"
      ]
    },
    {
      "cell_type": "code",
      "metadata": {
        "id": "NbBSqudSnF8j",
        "colab": {
          "base_uri": "https://localhost:8080/"
        },
        "outputId": "734b34b1-6054-4022-c94c-3285eb951b92"
      },
      "source": [
        "import smtplib, ssl\n",
        "\n",
        "port = 465  # For SSL\n",
        "smtp_server = \"smtp.gmail.com\"\n",
        "sender_email = \"nayan.mehta@jiopay.in\" # Enter your address\n",
        "receiver_email = input('enter receiver mail address:')  # Enter receiver address\n",
        "password = \"gias fdbr alyc qfpg\"\n",
        "message =input('enter myour message:')\n",
        "\n",
        "context = ssl.create_default_context()\n",
        "with smtplib.SMTP_SSL(smtp_server, port, context=context) as server:\n",
        "    server.login(sender_email, password)\n",
        "    server.sendmail(sender_email, receiver_email, message)"
      ],
      "execution_count": 1,
      "outputs": [
        {
          "name": "stdout",
          "output_type": "stream",
          "text": [
            "enter sender mail address:nayan.mehta@jiopay.in\n",
            "enter receiver mail address:sunil.karkera@jiopay.in\n",
            "Type your password and press enter: gias fdbr alyc qfpg\n",
            "enter myour message:hello\n"
          ]
        }
      ]
    },
    {
      "cell_type": "code",
      "metadata": {
        "id": "UydIl8e1AnCZ"
      },
      "source": [],
      "execution_count": null,
      "outputs": []
    }
  ]
}